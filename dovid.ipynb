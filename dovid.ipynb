{
 "cells": [
  {
   "cell_type": "code",
   "execution_count": 1,
   "metadata": {},
   "outputs": [],
   "source": [
    "# Mount Google Drive\n",
    "from google.colab import drive\n",
    "drive.mount('/content/drive')"
   ]
  },
  {
   "cell_type": "code",
   "execution_count": 2,
   "metadata": {},
   "outputs": [],
   "source": [
    "# Install HandBrakeCLI and rClone\n",
    "!add-apt-repository ppa:stebbins/handbrake-releases\n",
    "!apt update\n",
    "!apt install -y handbrake-cli\n",
    "!curl https://rclone.org/install.sh | sudo bash"
   ]
  },
  {
   "cell_type": "code",
   "execution_count": 3,
   "metadata": {},
   "outputs": [],
   "source": [
    "# Authenticate Google Drive and rClone\n",
    "!rclone config\n",
    "!rclone authorize \"drive\""
   ]
  },
  {
   "cell_type": "code",
   "execution_count": 4,
   "metadata": {},
   "outputs": [],
   "source": [
    "# Define a function to convert videos using HandBrakeCLI\n",
    "def convert_video(input_path, output_path):\n",
    "    !HandBrakeCLI -i \"{input_path}\" -o \"{output_path}\" --preset-import-file /content/drive/My\\ Drive/HandBrakePresets.json --preset \"My Preset\""
   ]
  },
  {
   "cell_type": "code",
   "execution_count": 5,
   "metadata": {},
   "outputs": [],
   "source": [
    "# Define a function to upload files to Google Drive using rClone\n",
    "def upload_to_drive(source_path, dest_path):\n",
    "    !rclone copy \"{source_path}\" \"drive:{dest_path}\""
   ]
  },
  {
   "cell_type": "code",
   "execution_count": 6,
   "metadata": {},
   "outputs": [],
   "source": [
    "# Create a form to allow the user to select the input video file\n",
    "import ipywidgets as widgets\n",
    "from google.colab import files\n",
    "\n",
    "input_file_upload = widgets.FileUpload(description='Select video file')\n",
    "display(input_file_upload)"
   ]
  },
  {
   "cell_type": "code",
   "execution_count": 7,
   "metadata": {},
   "outputs": [],
   "source": [
    "# Create a form to allow the user to select the output folder\n",
    "output_folder_select = widgets.Dropdown(\n",
    "    options=[('/content/drive/My Drive', 'My Drive')],\n",
    "    description='Output folder:',\n",
    "    style={'description_width': 'initial'})\n",
    "display(output_folder_select)"
   ]
  },
  {
   "cell_type": "code",
   "execution_count": 8,
   "metadata": {},
   "outputs": [],
   "source": [
    "# Create a button to start the conversion process\n",
    "start_button = widgets.Button(description='Start Conversion', button_style='success')\n",
    "display(start_button)"
   ]
  },
  {
   "cell_type": "code",
   "execution_count": 9,
   "metadata": {},
   "outputs
